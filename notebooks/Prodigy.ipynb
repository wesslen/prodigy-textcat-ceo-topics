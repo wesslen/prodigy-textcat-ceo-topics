{
 "cells": [
  {
   "cell_type": "markdown",
   "metadata": {},
   "source": [
    "## CEO Letter to Shareholder Demo\n",
    "\n",
    "For this, let's try to create a text classifier for sentences related to technology related topics.\n",
    "\n",
    "We'll go through an example similar to the [TextClassification Docs](https://prodi.gy/docs/text-classification#workflow)."
   ]
  },
  {
   "cell_type": "markdown",
   "metadata": {},
   "source": [
    "# Step 1: Matcher Rules\n",
    "\n",
    "Let's set up these annotation guidelines (definitions) for our labels:\n",
    "1. \"TECHNOLOGY\": Electronic object or system (e.g., computing) that helps employees or customers to accomplish tasks\n",
    "2. \"ESG\": Environmental, social, and governance (ESG) criteria are a set of standards for a company’s behavior used by socially conscious investors to screen potential investments.\n",
    "3. \"DEI\": Describes policies and programs that promote the representation and participation of different groups of individuals, including people of different ages, races and ethnicities, abilities and disabilities, genders, religions, cultures and sexual orientations.\n",
    "4. \"FINANCIAL\": Company-specific (\"micro\") financial topics including profiability, sales / revenue, capital, and balance sheet.\n",
    "5. \"ECONOMIC\": Economy-specific (\"macro\") events including employment levels, asset prices, wages, and trade (not regulation).\n",
    "6. \"WORKPLACE\": Workplace-related terms including working-from-home, returning to the office, employee retention."
   ]
  },
  {
   "cell_type": "markdown",
   "metadata": {},
   "source": [
    "First, specify simple matcher rules."
   ]
  },
  {
   "cell_type": "code",
   "execution_count": 23,
   "metadata": {},
   "outputs": [],
   "source": [
    "patterns = [\n",
    "    {\"label\": \"TECHNOLOGY\", \"pattern\": [{\"lower\": \"technology\"}]},\n",
    "    {\"label\": \"TECHNOLOGY\", \"pattern\": [{\"lower\": \"ai\"}]},\n",
    "    {\"label\": \"TECHNOLOGY\", \"pattern\": [{\"lower\": \"platform\"}]},\n",
    "    {\"label\": \"TECHNOLOGY\", \"pattern\": [{\"lower\": \"artificial\"}, {\"lower\": \"intelligence\"}]},\n",
    "    {\"label\": \"TECHNOLOGY\", \"pattern\": [{\"lower\": \"analytics\"}]},\n",
    "    {\"label\": \"TECHNOLOGY\", \"pattern\": [{\"lower\": \"fintech\"}]},\n",
    "    {\"label\": \"ESG\", \"pattern\": [{\"lower\": \"sustainability\"}]},\n",
    "    {\"label\": \"ESG\", \"pattern\": [{\"lower\": \"communities\"}]},\n",
    "    {\"label\": \"ESG\", \"pattern\": [{\"lower\": \"environmental\"}]},\n",
    "    {\"label\": \"ESG\", \"pattern\": [{\"lower\": \"climate\"}]},\n",
    "    {\"label\": \"ESG\", \"pattern\": [{\"lower\": \"philanthropy\"}]},\n",
    "    {\"label\": \"ESG\", \"pattern\": [{\"lower\": \"social\"}, {\"lower\": \"justice\"}]},\n",
    "    {\"label\": \"DEI\", \"pattern\": [{\"lower\": \"diversity\"}]},\n",
    "    {\"label\": \"DEI\", \"pattern\": [{\"lower\": \"inclusion\"}]},\n",
    "    {\"label\": \"DEI\", \"pattern\": [{\"lower\": \"equity\"}]},\n",
    "    {\"label\": \"FINANCIAL\", \"pattern\": [{\"lower\": \"financial\"}]},\n",
    "    {\"label\": \"FINANCIAL\", \"pattern\": [{\"lower\": \"profit\"}]},\n",
    "    {\"label\": \"FINANCIAL\", \"pattern\": [{\"lower\": \"loss\"}]},\n",
    "    {\"label\": \"FINANCIAL\", \"pattern\": [{\"lower\": \"liquidity\"}]},\n",
    "    {\"label\": \"ECONOMIC\", \"pattern\": [{\"lower\": \"unemployment\"}]},\n",
    "    {\"label\": \"ECONOMIC\", \"pattern\": [{\"lower\": \"economy\"}]},\n",
    "    {\"label\": \"ECONOMIC\", \"pattern\": [{\"lower\": \"economic\"}]},\n",
    "    {\"label\": \"ECONOMIC\", \"pattern\": [{\"lower\": \"inflation\"}]},\n",
    "    {\"label\": \"ECONOMIC\", \"pattern\": [{\"lower\": \"markets\"}]},\n",
    "    {\"label\": \"WORKPLACE\", \"pattern\": [{\"lower\": \"remote\"}]},\n",
    "    {\"label\": \"WORKPLACE\", \"pattern\": [{\"lower\": \"workplace\"}]},\n",
    "    {\"label\": \"WORKPLACE\", \"pattern\": [{\"lower\": \"from\"},{\"lower\": \"home\"}]},\n",
    "    {\"label\": \"WORKPLACE\", \"pattern\": [{\"lower\": \"home\"},{\"lower\": \"office\"}]},\n",
    "]\n",
    "\n",
    "# write to file\n",
    "srsly.write_jsonl(\"../assets/patterns.jsonl\", patterns)"
   ]
  },
  {
   "cell_type": "code",
   "execution_count": 24,
   "metadata": {},
   "outputs": [
    {
     "name": "stdout",
     "output_type": "stream",
     "text": [
      "Using 6 label(s): TECHNOLOGY, ESG, DEI, FINANCIAL, ECONOMIC, WORKPLACE\n",
      "\n",
      "✨  Starting the web server at http://localhost:8080 ...\n",
      "Open the app in your browser and start annotating!\n",
      "\n",
      "^C\n",
      "\n",
      "\u001b[38;5;2m✔ Saved 214 annotations to database SQLite\u001b[0m\n",
      "Dataset: ceo_data\n",
      "Session ID: 2022-09-05_16-28-18\n",
      "\n"
     ]
    }
   ],
   "source": [
    "!python -m prodigy \\\n",
    "    textcat.teach \\\n",
    "    ceo_data \\\n",
    "    blank:en \\\n",
    "    ../assets/ceo-letters-sample.jsonl \\\n",
    "    --label TECHNOLOGY,ESG,DEI,FINANCIAL,ECONOMIC,WORKPLACE \\\n",
    "    --patterns ../assets/patterns.jsonl"
   ]
  },
  {
   "cell_type": "code",
   "execution_count": 33,
   "metadata": {},
   "outputs": [
    {
     "name": "stdout",
     "output_type": "stream",
     "text": [
      "\u001b[38;5;2m✔ Loaded 214 annotations from 1 datasets\u001b[0m\n",
      "\u001b[1m\n",
      "=================================== Legend ===================================\u001b[0m\n",
      "\n",
      "New      New annotations collected in interval\n",
      "Total    Total annotations collected   \n",
      "Unique   Unique examples (not counting multiple annotations of same example)\n",
      "\n",
      "\u001b[1m\n",
      "============================ Annotation Progress ============================\u001b[0m\n",
      "\n",
      "           New   Unique   Total   Unique\n",
      "--------   ---   ------   -----   ------\n",
      "Sep 2022   214      169     214      169\n",
      "\n"
     ]
    }
   ],
   "source": [
    "!python -m prodigy progress ceo_data"
   ]
  },
  {
   "cell_type": "code",
   "execution_count": 38,
   "metadata": {},
   "outputs": [
    {
     "name": "stdout",
     "output_type": "stream",
     "text": [
      "\u001b[38;5;4mℹ Using CPU\u001b[0m\n",
      "\u001b[1m\n",
      "========================= Generating Prodigy config =========================\u001b[0m\n",
      "\u001b[38;5;4mℹ Auto-generating config with spaCy\u001b[0m\n",
      "\u001b[38;5;2m✔ Generated training config\u001b[0m\n",
      "\u001b[1m\n",
      "=========================== Initializing pipeline ===========================\u001b[0m\n",
      "[2022-09-05 17:08:49,270] [INFO] Set up nlp object from config\n",
      "Components: textcat_multilabel\n",
      "Merging training and evaluation data for 1 components\n",
      "  - [textcat_multilabel] Training: 169 | Evaluation: 45 (20% split)\n",
      "Training: 136 | Evaluation: 33\n",
      "Labels: textcat_multilabel (6)\n",
      "[2022-09-05 17:08:49,293] [INFO] Pipeline: ['textcat_multilabel']\n",
      "[2022-09-05 17:08:49,295] [INFO] Created vocabulary\n",
      "[2022-09-05 17:08:49,295] [INFO] Finished initializing nlp object\n",
      "[2022-09-05 17:08:49,364] [INFO] Initialized pipeline components: ['textcat_multilabel']\n",
      "\u001b[38;5;2m✔ Initialized pipeline\u001b[0m\n",
      "\u001b[1m\n",
      "============================= Training pipeline =============================\u001b[0m\n",
      "Components: textcat_multilabel\n",
      "Merging training and evaluation data for 1 components\n",
      "  - [textcat_multilabel] Training: 169 | Evaluation: 45 (20% split)\n",
      "Training: 136 | Evaluation: 33\n",
      "Labels: textcat_multilabel (6)\n",
      "\u001b[38;5;4mℹ Pipeline: ['textcat_multilabel']\u001b[0m\n",
      "\u001b[38;5;4mℹ Initial learn rate: 0.001\u001b[0m\n",
      "E    #       LOSS TEXTC...  CATS_SCORE  SCORE \n",
      "---  ------  -------------  ----------  ------\n",
      "  0       0           0.25       45.50    0.46\n",
      "  5     200          18.08       46.25    0.46\n",
      " 12     400           5.01       52.22    0.52\n",
      " 21     600           1.80       52.50    0.52\n",
      " 31     800           0.86       52.86    0.53\n",
      " 45    1000           0.48       51.91    0.52\n",
      " 61    1200           0.29       52.44    0.52\n",
      " 81    1400           0.19       52.44    0.52\n",
      "105    1600           0.12       51.91    0.52\n",
      "135    1800           0.08       51.82    0.52\n",
      "172    2000           0.06       52.10    0.52\n",
      "216    2200           0.04       52.62    0.53\n",
      "266    2400           0.03       52.62    0.53\n",
      "\u001b[38;5;2m✔ Saved pipeline to output directory\u001b[0m\n",
      "../ceo-topics/model-last\n",
      "\u001b[1m\n",
      "=========================== Textcat F (per label) ===========================\u001b[0m\n",
      "\n",
      "                  P       R       F\n",
      "TECHNOLOGY     0.00    0.00    0.00\n",
      "FINANCIAL      0.00    0.00    0.00\n",
      "ECONOMIC       0.00    0.00    0.00\n",
      "ESG          100.00   14.29   25.00\n",
      "WORKPLACE      0.00    0.00    0.00\n",
      "DEI            0.00    0.00    0.00\n",
      "\n",
      "\u001b[1m\n",
      "======================== Textcat ROC AUC (per label) ========================\u001b[0m\n",
      "\n",
      "             ROC AUC\n",
      "TECHNOLOGY      0.91\n",
      "FINANCIAL       0.66\n",
      "ECONOMIC        0.69\n",
      "ESG             0.65\n",
      "WORKPLACE       None\n",
      "DEI             0.27\n",
      "\n"
     ]
    }
   ],
   "source": [
    "# step 2: train initial model\n",
    "# see https://prodi.gy/docs/recipes#train\n",
    "!python -m \\\n",
    "    prodigy \\\n",
    "    train \\\n",
    "    ../ceo-topics \\\n",
    "    --textcat-multilabel ceo_data \\\n",
    "    --label-stats"
   ]
  },
  {
   "cell_type": "markdown",
   "metadata": {},
   "source": [
    "## Step 3: Correct to get gold labels"
   ]
  },
  {
   "cell_type": "code",
   "execution_count": 51,
   "metadata": {},
   "outputs": [
    {
     "name": "stdout",
     "output_type": "stream",
     "text": [
      "Using 6 label(s): TECHNOLOGY, ESG, DEI, FINANCIAL, ECONOMIC, WORKPLACE\n",
      "\u001b[38;5;4mℹ Annotating non-exclusive categories based on 'textcat_multilabel'\n",
      "component config\u001b[0m\n",
      "\n",
      "✨  Starting the web server at http://localhost:8080 ...\n",
      "Open the app in your browser and start annotating!\n",
      "\n",
      "^C\n",
      "\n",
      "\u001b[38;5;2m✔ Saved 250 annotations to database SQLite\u001b[0m\n"
     ]
    }
   ],
   "source": [
    "!python -m \\\n",
    "    prodigy \\\n",
    "    textcat.correct \\\n",
    "    ceo_correct \\\n",
    "    ../ceo-topics/model-last \\\n",
    "    ../assets/ceo-letters-sample.jsonl \\\n",
    "    --label TECHNOLOGY,ESG,DEI,FINANCIAL,ECONOMIC,WORKPLACE \\\n",
    "    --update"
   ]
  },
  {
   "cell_type": "code",
   "execution_count": 52,
   "metadata": {},
   "outputs": [
    {
     "name": "stdout",
     "output_type": "stream",
     "text": [
      "\u001b[38;5;4mℹ Using CPU\u001b[0m\n",
      "\u001b[1m\n",
      "========================= Generating Prodigy config =========================\u001b[0m\n",
      "\u001b[38;5;4mℹ Auto-generating config with spaCy\u001b[0m\n",
      "\u001b[38;5;2m✔ Generated training config\u001b[0m\n",
      "\u001b[1m\n",
      "=========================== Initializing pipeline ===========================\u001b[0m\n",
      "[2022-09-05 17:51:13,781] [INFO] Set up nlp object from config\n",
      "Components: textcat_multilabel\n",
      "Merging training and evaluation data for 1 components\n",
      "  - [textcat_multilabel] Training: 200 | Evaluation: 50 (20% split)\n",
      "Training: 200 | Evaluation: 50\n",
      "Labels: textcat_multilabel (6)\n",
      "[2022-09-05 17:51:13,821] [INFO] Pipeline: ['textcat_multilabel']\n",
      "[2022-09-05 17:51:13,823] [INFO] Created vocabulary\n",
      "[2022-09-05 17:51:13,824] [INFO] Finished initializing nlp object\n",
      "[2022-09-05 17:51:13,917] [INFO] Initialized pipeline components: ['textcat_multilabel']\n",
      "\u001b[38;5;2m✔ Initialized pipeline\u001b[0m\n",
      "\u001b[1m\n",
      "============================= Training pipeline =============================\u001b[0m\n",
      "Components: textcat_multilabel\n",
      "Merging training and evaluation data for 1 components\n",
      "  - [textcat_multilabel] Training: 200 | Evaluation: 50 (20% split)\n",
      "Training: 200 | Evaluation: 50\n",
      "Labels: textcat_multilabel (6)\n",
      "\u001b[38;5;4mℹ Pipeline: ['textcat_multilabel']\u001b[0m\n",
      "\u001b[38;5;4mℹ Initial learn rate: 0.001\u001b[0m\n",
      "E    #       LOSS TEXTC...  CATS_SCORE  SCORE \n",
      "---  ------  -------------  ----------  ------\n",
      "  0       0           0.25       31.67    0.32\n",
      "  3     200          25.91       47.49    0.47\n",
      "  8     400          11.18       57.08    0.57\n",
      " 13     600           4.36       63.75    0.64\n",
      " 20     800           1.93       63.71    0.64\n",
      " 29    1000           1.02       63.71    0.64\n",
      " 40    1200           0.62       64.06    0.64\n",
      " 53    1400           0.40       64.02    0.64\n",
      " 70    1600           0.26       64.02    0.64\n",
      " 89    1800           0.17       64.32    0.64\n",
      "113    2000           0.12       64.32    0.64\n",
      "143    2200           0.08       64.33    0.64\n",
      "176    2400           0.06       64.67    0.65\n",
      "209    2600           0.04       64.67    0.65\n",
      "243    2800           0.03       64.67    0.65\n",
      "276    3000           0.03       64.70    0.65\n",
      "309    3200           0.02       64.60    0.65\n",
      "343    3400           0.02       64.68    0.65\n",
      "376    3600           0.02       64.68    0.65\n",
      "409    3800           0.01       64.93    0.65\n",
      "443    4000           0.01       64.97    0.65\n",
      "476    4200           0.01       65.24    0.65\n",
      "509    4400           0.01       65.22    0.65\n",
      "543    4600           0.01       65.18    0.65\n",
      "576    4800           0.01       65.14    0.65\n",
      "609    5000           0.01       65.05    0.65\n",
      "643    5200           0.01       65.05    0.65\n",
      "676    5400           0.01       65.07    0.65\n",
      "709    5600           0.00       65.00    0.65\n",
      "743    5800           0.00       64.81    0.65\n",
      "\u001b[38;5;2m✔ Saved pipeline to output directory\u001b[0m\n",
      "../ceo-topics/model-last\n",
      "\u001b[1m\n",
      "=========================== Textcat F (per label) ===========================\u001b[0m\n",
      "\n",
      "                 P       R       F\n",
      "DEI           0.00    0.00    0.00\n",
      "WORKPLACE     0.00    0.00    0.00\n",
      "TECHNOLOGY    0.00    0.00    0.00\n",
      "ECONOMIC     76.47   72.22   74.29\n",
      "ESG          66.67   15.38   25.00\n",
      "FINANCIAL    42.86   25.00   31.58\n",
      "\n",
      "\u001b[1m\n",
      "======================== Textcat ROC AUC (per label) ========================\u001b[0m\n",
      "\n",
      "             ROC AUC\n",
      "DEI             0.35\n",
      "WORKPLACE       0.72\n",
      "TECHNOLOGY      0.76\n",
      "ECONOMIC        0.80\n",
      "ESG             0.66\n",
      "FINANCIAL       0.62\n",
      "\n"
     ]
    }
   ],
   "source": [
    "# retrain initial model\n",
    "!python -m \\\n",
    "    prodigy \\\n",
    "    train \\\n",
    "    ../ceo-topics \\\n",
    "    --textcat-multilabel ceo_correct \\\n",
    "    --label-stats"
   ]
  },
  {
   "cell_type": "code",
   "execution_count": 34,
   "metadata": {},
   "outputs": [],
   "source": [
    "# prodigy configuration: see https://prodi.gy/docs/install#config\n",
    "!export PRODIGY_CONFIG=\"../prodigy.json\""
   ]
  },
  {
   "cell_type": "code",
   "execution_count": 66,
   "metadata": {},
   "outputs": [
    {
     "name": "stdout",
     "output_type": "stream",
     "text": [
      "Using 6 label(s): TECHNOLOGY, ESG, DEI, FINANCIAL, ECONOMIC, WORKPLACE\n",
      "\n",
      "✨  Starting the web server at http://localhost:8080 ...\n",
      "Open the app in your browser and start annotating!\n",
      "\n",
      "^C\n"
     ]
    }
   ],
   "source": [
    "# step 3: active learning\n",
    "# see https://prodi.gy/docs/recipes#textcat-teach \n",
    "!python -m \\\n",
    "    prodigy \\\n",
    "    textcat.teach \\\n",
    "    ceo_teach \\\n",
    "    ../ceo-topics/model-last \\\n",
    "    ../assets/ceo-letters-sample.jsonl \\\n",
    "    --label TECHNOLOGY,ESG,DEI,FINANCIAL,ECONOMIC,WORKPLACE \\\n",
    "    --exclude ceo_correct # exclude previously labeled"
   ]
  },
  {
   "cell_type": "code",
   "execution_count": 48,
   "metadata": {},
   "outputs": [
    {
     "name": "stdout",
     "output_type": "stream",
     "text": [
      "\u001b[38;5;2m✔ Created dataset 'ceo_dataset'\u001b[0m\n",
      "\u001b[38;5;2m✔ Merged 300 examples from 2 datasets\u001b[0m\n",
      "Created merged dataset 'ceo_dataset'\n"
     ]
    }
   ],
   "source": [
    "# step 4: merge manual + teach\n",
    "# see https://prodi.gy/docs/recipes#merge\n",
    "!python -m \\\n",
    "    prodigy \\\n",
    "    db-merge \\\n",
    "    ceo_manual,ceo_teach \\\n",
    "    ceo_dataset"
   ]
  },
  {
   "cell_type": "code",
   "execution_count": 56,
   "metadata": {},
   "outputs": [
    {
     "name": "stdout",
     "output_type": "stream",
     "text": [
      "\u001b[38;5;4mℹ Using CPU\u001b[0m\n",
      "\u001b[1m\n",
      "========================= Generating Prodigy config =========================\u001b[0m\n",
      "\u001b[38;5;4mℹ Auto-generating config with spaCy\u001b[0m\n",
      "\u001b[38;5;2m✔ Generated training config\u001b[0m\n",
      "\u001b[1m\n",
      "=========================== Initializing pipeline ===========================\u001b[0m\n",
      "[2022-09-05 22:06:53,705] [INFO] Set up nlp object from config\n",
      "Components: textcat_multilabel\n",
      "Merging training and evaluation data for 1 components\n",
      "  - [textcat_multilabel] Training: 200 | Evaluation: 50 (20% split)\n",
      "Training: 200 | Evaluation: 50\n",
      "Labels: textcat_multilabel (6)\n",
      "[2022-09-05 22:06:53,746] [INFO] Pipeline: ['textcat_multilabel']\n",
      "[2022-09-05 22:06:53,748] [INFO] Created vocabulary\n",
      "[2022-09-05 22:06:53,749] [INFO] Finished initializing nlp object\n",
      "[2022-09-05 22:06:53,849] [INFO] Initialized pipeline components: ['textcat_multilabel']\n",
      "\u001b[38;5;2m✔ Initialized pipeline\u001b[0m\n",
      "\u001b[1m\n",
      "============================= Training pipeline =============================\u001b[0m\n",
      "Components: textcat_multilabel\n",
      "Merging training and evaluation data for 1 components\n",
      "  - [textcat_multilabel] Training: 200 | Evaluation: 50 (20% split)\n",
      "Training: 200 | Evaluation: 50\n",
      "Labels: textcat_multilabel (6)\n",
      "\u001b[38;5;4mℹ Pipeline: ['textcat_multilabel']\u001b[0m\n",
      "\u001b[38;5;4mℹ Initial learn rate: 0.001\u001b[0m\n",
      "E    #       LOSS TEXTC...  CATS_SCORE  SCORE \n",
      "---  ------  -------------  ----------  ------\n",
      "  0       0           0.25       32.14    0.32\n",
      "  3     200          25.89       47.43    0.47\n",
      "  8     400          11.14       56.18    0.56\n",
      " 13     600           4.33       62.08    0.62\n",
      " 20     800           1.92       62.89    0.63\n",
      " 29    1000           1.01       62.89    0.63\n",
      " 40    1200           0.62       63.32    0.63\n",
      " 53    1400           0.40       63.93    0.64\n",
      " 70    1600           0.26       64.37    0.64\n",
      " 89    1800           0.17       64.53    0.65\n",
      "113    2000           0.12       64.50    0.65\n",
      "143    2200           0.08       64.60    0.65\n",
      "176    2400           0.06       64.56    0.65\n",
      "209    2600           0.04       64.51    0.65\n",
      "243    2800           0.03       64.47    0.64\n",
      "276    3000           0.03       64.40    0.64\n",
      "^C\n",
      "\n",
      "\u001b[38;5;3m⚠ Aborted\u001b[0m\n",
      "\n"
     ]
    }
   ],
   "source": [
    "# step 5: retrain model\n",
    "# see https://prodi.gy/docs/recipes#merge\n",
    "!python -m \\\n",
    "    prodigy \\\n",
    "    train \\\n",
    "    ceo-tech-model \\\n",
    "    --textcat-multilabel ceo_dataset"
   ]
  },
  {
   "cell_type": "code",
   "execution_count": 57,
   "metadata": {},
   "outputs": [
    {
     "name": "stdout",
     "output_type": "stream",
     "text": [
      "\u001b[1m\n",
      "========================= Generating Prodigy config =========================\u001b[0m\n",
      "\u001b[38;5;4mℹ Auto-generating config with spaCy\u001b[0m\n",
      "\u001b[38;5;2m✔ Generated training config\u001b[0m\n",
      "\u001b[1m\n",
      "=========================== Train curve diagnostic ===========================\u001b[0m\n",
      "Training 4 times with 25%, 50%, 75%, 100% of the data\n",
      "\n",
      "%      Score    textcat_multilabel\n",
      "----   ------   ------\n",
      "  0%   0.35     0.35  \n",
      " 25%   0.43 ▲   0.43 ▲\n",
      " 50%   0.55 ▲   0.55 ▲\n",
      " 75%   0.62 ▲   0.62 ▲\n",
      "100%   0.65 ▲   0.65 ▲\n",
      "\n",
      "\u001b[38;5;2m✔ Accuracy improved in the last sample\u001b[0m\n",
      "As a rule of thumb, if accuracy increases in the last segment, this could\n",
      "indicate that collecting more annotations of the same type will improve the\n",
      "model further.\n"
     ]
    }
   ],
   "source": [
    "# optional: run train-curve for label diagnostic\n",
    "# see https://prodi.gy/docs/recipes#train-curve\n",
    "!python -m \\\n",
    "    prodigy \\\n",
    "    train-curve \\\n",
    "    --textcat-multilabel ceo_correct"
   ]
  },
  {
   "cell_type": "markdown",
   "metadata": {},
   "source": [
    "## Model Scoring as a spaCy model"
   ]
  },
  {
   "cell_type": "code",
   "execution_count": 59,
   "metadata": {},
   "outputs": [
    {
     "name": "stdout",
     "output_type": "stream",
     "text": [
      "{'DEI': 0.002334033139050007, 'WORKPLACE': 0.0006752138724550605, 'TECHNOLOGY': 0.6779870986938477, 'ECONOMIC': 0.03985508531332016, 'ESG': 0.0628301203250885, 'FINANCIAL': 0.060610558837652206}\n"
     ]
    }
   ],
   "source": [
    "import spacy\n",
    "\n",
    "nlp = spacy.load(\"../ceo-topics/model-last\")\n",
    "doc = nlp(\"As the importance of cloud, AI and digital platforms grows, this competition will become even more formidable.\")\n",
    "print(doc.cats)"
   ]
  },
  {
   "cell_type": "code",
   "execution_count": 60,
   "metadata": {},
   "outputs": [
    {
     "name": "stdout",
     "output_type": "stream",
     "text": [
      "{'DEI': 0.006951575633138418, 'WORKPLACE': 0.01583658903837204, 'TECHNOLOGY': 0.010677837766706944, 'ECONOMIC': 0.0004547737189568579, 'ESG': 0.04622439295053482, 'FINANCIAL': 0.3732890486717224}\n"
     ]
    }
   ],
   "source": [
    "doc = nlp(\"We have taken extensive steps to support our employees, who are our greatest strength.\")\n",
    "print(doc.cats)"
   ]
  }
 ],
 "metadata": {
  "kernelspec": {
   "display_name": "Python 3 (ipykernel)",
   "language": "python",
   "name": "python3"
  },
  "language_info": {
   "codemirror_mode": {
    "name": "ipython",
    "version": 3
   },
   "file_extension": ".py",
   "mimetype": "text/x-python",
   "name": "python",
   "nbconvert_exporter": "python",
   "pygments_lexer": "ipython3",
   "version": "3.9.13"
  },
  "vscode": {
   "interpreter": {
    "hash": "aee8b7b246df8f9039afb4144a1f6fd8d2ca17a180786b69acc140d282b71a49"
   }
  }
 },
 "nbformat": 4,
 "nbformat_minor": 4
}
