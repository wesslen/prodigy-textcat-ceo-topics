{
 "cells": [
  {
   "cell_type": "markdown",
   "metadata": {},
   "source": [
    "## CEO Letter to Shareholder Demo\n",
    "\n",
    "For this, let's try to create a text classifier for sentences related to technology related topics.\n",
    "\n",
    "We'll go through an example similar to the [TextClassification Docs](https://prodi.gy/docs/text-classification#workflow)."
   ]
  },
  {
   "cell_type": "code",
   "execution_count": 3,
   "metadata": {},
   "outputs": [
    {
     "name": "stdout",
     "output_type": "stream",
     "text": [
      "Using 1 label(s): TECHNOLOGY\n",
      "\n",
      "✨  Starting the web server at http://localhost:8080 ...\n",
      "Open the app in your browser and start annotating!\n",
      "\n",
      "^C\n",
      "\n",
      "\u001b[38;5;2m✔ Saved 200 annotations to database SQLite\u001b[0m\n",
      "Dataset: ceo_manual\n",
      "Session ID: 2022-08-24_17-34-41\n",
      "\n"
     ]
    }
   ],
   "source": [
    "# step 1: manual label\n",
    "# see https://prodi.gy/docs/recipes#textcat-manual\n",
    "!source pgy-env/bin/activate && prodigy textcat.manual ceo_manual ceo-letters-sample.jsonl --label TECHNOLOGY"
   ]
  },
  {
   "cell_type": "code",
   "execution_count": 35,
   "metadata": {},
   "outputs": [
    {
     "name": "stdout",
     "output_type": "stream",
     "text": [
      "\u001b[38;5;4mℹ Using CPU\u001b[0m\n",
      "\u001b[1m\n",
      "========================= Generating Prodigy config =========================\u001b[0m\n",
      "\u001b[38;5;4mℹ Auto-generating config with spaCy\u001b[0m\n",
      "\u001b[38;5;2m✔ Generated training config\u001b[0m\n",
      "\u001b[1m\n",
      "=========================== Initializing pipeline ===========================\u001b[0m\n",
      "[2022-08-24 20:39:30,980] [INFO] Set up nlp object from config\n",
      "Components: textcat_multilabel\n",
      "Merging training and evaluation data for 1 components\n",
      "  - [textcat_multilabel] Training: 160 | Evaluation: 40 (20% split)\n",
      "Training: 160 | Evaluation: 40\n",
      "Labels: textcat_multilabel (1)\n",
      "[2022-08-24 20:39:31,008] [INFO] Pipeline: ['textcat_multilabel']\n",
      "[2022-08-24 20:39:31,011] [INFO] Created vocabulary\n",
      "[2022-08-24 20:39:31,012] [INFO] Finished initializing nlp object\n",
      "[2022-08-24 20:39:31,115] [INFO] Initialized pipeline components: ['textcat_multilabel']\n",
      "\u001b[38;5;2m✔ Initialized pipeline\u001b[0m\n",
      "\u001b[1m\n",
      "============================= Training pipeline =============================\u001b[0m\n",
      "Components: textcat_multilabel\n",
      "Merging training and evaluation data for 1 components\n",
      "  - [textcat_multilabel] Training: 160 | Evaluation: 40 (20% split)\n",
      "Training: 160 | Evaluation: 40\n",
      "Labels: textcat_multilabel (1)\n",
      "\u001b[38;5;4mℹ Pipeline: ['textcat_multilabel']\u001b[0m\n",
      "\u001b[38;5;4mℹ Initial learn rate: 0.001\u001b[0m\n",
      "E    #       LOSS TEXTC...  CATS_SCORE  SCORE \n",
      "---  ------  -------------  ----------  ------\n",
      "  0       0           0.25       49.31    0.49\n",
      "  4     200          24.46       52.08    0.52\n",
      " 10     400          12.19       68.75    0.69\n",
      " 17     600           3.88       82.64    0.83\n",
      " 26     800           1.75       81.94    0.82\n",
      " 37    1000           0.96       82.64    0.83\n",
      " 51    1200           0.57       83.33    0.83\n",
      " 68    1400           0.36       81.94    0.82\n",
      " 88    1600           0.24       81.94    0.82\n",
      "114    1800           0.16       81.94    0.82\n",
      "145    2000           0.11       81.94    0.82\n",
      "182    2200           0.08       81.25    0.81\n",
      "228    2400           0.05       81.25    0.81\n",
      "278    2600           0.04       81.25    0.81\n",
      "328    2800           0.03       81.25    0.81\n",
      "\u001b[38;5;2m✔ Saved pipeline to output directory\u001b[0m\n",
      "ceo-tech-model/model-last\n"
     ]
    }
   ],
   "source": [
    "# step 2: train initial model\n",
    "# see https://prodi.gy/docs/recipes#train\n",
    "!source pgy-env/bin/activate && \\\n",
    "    prodigy \\\n",
    "    train \\\n",
    "    ceo-tech-model \\\n",
    "    --textcat-multilabel ceo_manual "
   ]
  },
  {
   "cell_type": "code",
   "execution_count": 46,
   "metadata": {},
   "outputs": [],
   "source": [
    "# prodigy configuration: see https://prodi.gy/docs/install#config\n",
    "!export PRODIGY_CONFIG=\"prodigy.json\""
   ]
  },
  {
   "cell_type": "code",
   "execution_count": 54,
   "metadata": {},
   "outputs": [
    {
     "name": "stdout",
     "output_type": "stream",
     "text": [
      "Using 1 label(s): TECHNOLOGY\n",
      "\n",
      "✨  Starting the web server at http://localhost:8080 ...\n",
      "Open the app in your browser and start annotating!\n",
      "\n",
      "^C\n"
     ]
    }
   ],
   "source": [
    "# step 3: active learning\n",
    "# see https://prodi.gy/docs/recipes#textcat-teach \n",
    "!source pgy-env/bin/activate && \\\n",
    "    prodigy \\\n",
    "    textcat.teach \\\n",
    "    ceo_teach \\\n",
    "    ceo-tech-model/model-best \\\n",
    "    ceo-letters-sample.jsonl \\\n",
    "    --label TECHNOLOGY \\\n",
    "    --exclude ceo_manual # exclude previously labeled"
   ]
  },
  {
   "cell_type": "code",
   "execution_count": 48,
   "metadata": {},
   "outputs": [
    {
     "name": "stdout",
     "output_type": "stream",
     "text": [
      "\u001b[38;5;2m✔ Created dataset 'ceo_dataset'\u001b[0m\n",
      "\u001b[38;5;2m✔ Merged 300 examples from 2 datasets\u001b[0m\n",
      "Created merged dataset 'ceo_dataset'\n"
     ]
    }
   ],
   "source": [
    "# step 4: merge manual + teach\n",
    "# see https://prodi.gy/docs/recipes#merge\n",
    "!source pgy-env/bin/activate && \\\n",
    "    prodigy \\\n",
    "    db-merge \\\n",
    "    ceo_manual,ceo_teach \\\n",
    "    ceo_dataset"
   ]
  },
  {
   "cell_type": "code",
   "execution_count": 49,
   "metadata": {},
   "outputs": [
    {
     "name": "stdout",
     "output_type": "stream",
     "text": [
      "\u001b[38;5;4mℹ Using CPU\u001b[0m\n",
      "\u001b[1m\n",
      "========================= Generating Prodigy config =========================\u001b[0m\n",
      "\u001b[38;5;4mℹ Auto-generating config with spaCy\u001b[0m\n",
      "\u001b[38;5;2m✔ Generated training config\u001b[0m\n",
      "\u001b[1m\n",
      "=========================== Initializing pipeline ===========================\u001b[0m\n",
      "[2022-08-24 21:01:21,007] [INFO] Set up nlp object from config\n",
      "Components: textcat_multilabel\n",
      "Merging training and evaluation data for 1 components\n",
      "  - [textcat_multilabel] Training: 240 | Evaluation: 60 (20% split)\n",
      "Training: 240 | Evaluation: 60\n",
      "Labels: textcat_multilabel (1)\n",
      "[2022-08-24 21:01:21,045] [INFO] Pipeline: ['textcat_multilabel']\n",
      "[2022-08-24 21:01:21,048] [INFO] Created vocabulary\n",
      "[2022-08-24 21:01:21,049] [INFO] Finished initializing nlp object\n",
      "[2022-08-24 21:01:21,182] [INFO] Initialized pipeline components: ['textcat_multilabel']\n",
      "\u001b[38;5;2m✔ Initialized pipeline\u001b[0m\n",
      "\u001b[1m\n",
      "============================= Training pipeline =============================\u001b[0m\n",
      "Components: textcat_multilabel\n",
      "Merging training and evaluation data for 1 components\n",
      "  - [textcat_multilabel] Training: 240 | Evaluation: 60 (20% split)\n",
      "Training: 240 | Evaluation: 60\n",
      "Labels: textcat_multilabel (1)\n",
      "\u001b[38;5;4mℹ Pipeline: ['textcat_multilabel']\u001b[0m\n",
      "\u001b[38;5;4mℹ Initial learn rate: 0.001\u001b[0m\n",
      "E    #       LOSS TEXTC...  CATS_SCORE  SCORE \n",
      "---  ------  -------------  ----------  ------\n",
      "  0       0           0.25       35.27    0.35\n",
      "  3     200          26.43       43.27    0.43\n",
      "  7     400          14.63       55.64    0.56\n",
      " 12     600           6.82       67.64    0.68\n",
      " 18     800           2.81       68.00    0.68\n",
      " 26    1000           1.57       68.73    0.69\n",
      " 36    1200           0.95       69.45    0.69\n",
      " 48    1400           0.61       69.45    0.69\n",
      " 63    1600           0.40       69.45    0.69\n",
      " 81    1800           0.28       69.82    0.70\n",
      "103    2000           0.19       70.91    0.71\n",
      "130    2200           0.13       70.55    0.71\n",
      "162    2400           0.09       70.55    0.71\n",
      "196    2600           0.07       70.18    0.70\n",
      "229    2800           0.05       70.91    0.71\n",
      "262    3000           0.04       71.27    0.71\n",
      "296    3200           0.03       71.27    0.71\n",
      "329    3400           0.03       71.27    0.71\n",
      "362    3600           0.02       71.27    0.71\n",
      "396    3800           0.02       71.27    0.71\n",
      "429    4000           0.02       71.27    0.71\n",
      "462    4200           0.01       71.64    0.72\n",
      "496    4400           0.01       71.64    0.72\n",
      "529    4600           0.01       71.64    0.72\n",
      "562    4800           0.01       71.64    0.72\n",
      "596    5000           0.01       71.27    0.71\n",
      "629    5200           0.01       71.27    0.71\n",
      "662    5400           0.01       71.27    0.71\n",
      "696    5600           0.01       71.27    0.71\n",
      "729    5800           0.01       70.91    0.71\n",
      "\u001b[38;5;2m✔ Saved pipeline to output directory\u001b[0m\n",
      "ceo-tech-model/model-last\n"
     ]
    }
   ],
   "source": [
    "# step 5: retrain model\n",
    "# see https://prodi.gy/docs/recipes#merge\n",
    "!source pgy-env/bin/activate && \\\n",
    "    prodigy \\\n",
    "    train \\\n",
    "    ceo-tech-model \\\n",
    "    --textcat-multilabel ceo_dataset"
   ]
  },
  {
   "cell_type": "code",
   "execution_count": 50,
   "metadata": {},
   "outputs": [
    {
     "name": "stdout",
     "output_type": "stream",
     "text": [
      "\u001b[1m\n",
      "========================= Generating Prodigy config =========================\u001b[0m\n",
      "\u001b[38;5;4mℹ Auto-generating config with spaCy\u001b[0m\n",
      "\u001b[38;5;2m✔ Generated training config\u001b[0m\n",
      "\u001b[1m\n",
      "=========================== Train curve diagnostic ===========================\u001b[0m\n",
      "Training 4 times with 25%, 50%, 75%, 100% of the data\n",
      "\n",
      "%      Score    textcat_multilabel\n",
      "----   ------   ------\n",
      "  0%   0.47     0.47  \n",
      " 25%   0.64 ▲   0.64 ▲\n",
      " 50%   0.71 ▲   0.71 ▲\n",
      " 75%   0.65 ▼   0.65 ▼\n",
      "100%   0.72 ▲   0.72 ▲\n",
      "\n",
      "\u001b[38;5;2m✔ Accuracy improved in the last sample\u001b[0m\n",
      "As a rule of thumb, if accuracy increases in the last segment, this could\n",
      "indicate that collecting more annotations of the same type will improve the\n",
      "model further.\n"
     ]
    }
   ],
   "source": [
    "# optional: run train-curve for label diagnostic\n",
    "# see https://prodi.gy/docs/recipes#train-curve\n",
    "!source pgy-env/bin/activate && \\\n",
    "    prodigy \\\n",
    "    train-curve \\\n",
    "    --textcat-multilabel ceo_dataset"
   ]
  },
  {
   "cell_type": "markdown",
   "metadata": {},
   "source": [
    "## Model Scoring as a spaCy model"
   ]
  },
  {
   "cell_type": "code",
   "execution_count": 51,
   "metadata": {},
   "outputs": [
    {
     "name": "stdout",
     "output_type": "stream",
     "text": [
      "{'TECHNOLOGY': 0.5724478363990784}\n"
     ]
    }
   ],
   "source": [
    "import spacy\n",
    "\n",
    "nlp = spacy.load(\"ceo-tech-model/model-last\")\n",
    "doc = nlp(\"As the importance of cloud, AI and digital platforms grows, this competition will become even more formidable.\")\n",
    "print(doc.cats)"
   ]
  },
  {
   "cell_type": "code",
   "execution_count": 52,
   "metadata": {},
   "outputs": [
    {
     "name": "stdout",
     "output_type": "stream",
     "text": [
      "{'TECHNOLOGY': 0.10642561316490173}\n"
     ]
    }
   ],
   "source": [
    "doc = nlp(\"We have taken extensive steps to support our employees, who are our greatest strength.\")\n",
    "print(doc.cats)"
   ]
  }
 ],
 "metadata": {
  "kernelspec": {
   "display_name": "Python 3 (ipykernel)",
   "language": "python",
   "name": "python3"
  },
  "language_info": {
   "codemirror_mode": {
    "name": "ipython",
    "version": 3
   },
   "file_extension": ".py",
   "mimetype": "text/x-python",
   "name": "python",
   "nbconvert_exporter": "python",
   "pygments_lexer": "ipython3",
   "version": "3.8.10"
  }
 },
 "nbformat": 4,
 "nbformat_minor": 4
}
